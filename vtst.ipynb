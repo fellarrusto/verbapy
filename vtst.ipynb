{
 "cells": [
  {
   "cell_type": "code",
   "execution_count": 10,
   "metadata": {},
   "outputs": [],
   "source": [
    "from verbapy import *"
   ]
  },
  {
   "cell_type": "code",
   "execution_count": 11,
   "metadata": {},
   "outputs": [],
   "source": [
    "build_signature_dictionary('dictionary/wordlist95000_ITA.txt', 'dictionary/wordlist95000_ITA_sign.json')"
   ]
  },
  {
   "cell_type": "code",
   "execution_count": 12,
   "metadata": {},
   "outputs": [],
   "source": [
    "signature_dict = load_signature_dictionary('dictionary/wordlist95000_ITA_sign.json')"
   ]
  },
  {
   "cell_type": "code",
   "execution_count": 4,
   "metadata": {},
   "outputs": [],
   "source": [
    "anagram_finder = Anagrammer(signature_dict)\n"
   ]
  },
  {
   "cell_type": "code",
   "execution_count": 15,
   "metadata": {},
   "outputs": [],
   "source": [
    "input_str = \"siamoanapoliamici\""
   ]
  },
  {
   "cell_type": "code",
   "execution_count": 20,
   "metadata": {},
   "outputs": [
    {
     "name": "stdout",
     "output_type": "stream",
     "text": [
      "Starting Python execution...\n",
      "Python completed in 18.368796825408936s\n",
      "10000 anagrams found\n",
      "Starting C++ execution...\n",
      "C++ completed in 1.4114086627960205s\n",
      "10000 anagrams found\n",
      "Starting C++ O3 execution...\n",
      "C++ O3 completed in 0.4045829772949219s\n",
      "10000 anagrams found\n"
     ]
    }
   ],
   "source": [
    "import subprocess, time\n",
    "\n",
    "print(\"Starting Python execution...\")\n",
    "ex_time_py = 0\n",
    "start_time = time.time()\n",
    "results_py = anagram_finder.find_anagrams(input_str, max_results=10000, allow_partial=True)\n",
    "ex_time_py = time.time() - start_time\n",
    "\n",
    "print(f\"Python completed in {ex_time_py}s\")\n",
    "print(f\"{len(results_py)} anagrams found\")\n",
    "\n",
    "print(\"Starting C++ execution...\")\n",
    "ex_time_cpp = 0\n",
    "start_time = time.time()\n",
    "results_cpp = subprocess.run(\n",
    "    [\"./anagrammer_int\", \"dictionary/wordlist95000_ITA_sign.json\", input_str, \"--allow_partial\"],\n",
    "    text=True, capture_output=True).stdout.splitlines()\n",
    "ex_time_cpp = time.time() - start_time\n",
    "\n",
    "print(f\"C++ completed in {ex_time_cpp}s\")\n",
    "print(f\"{len(results_cpp)} anagrams found\")\n",
    "\n",
    "print(\"Starting C++ O3 execution...\")\n",
    "ex_time_cpp_8bit = 0\n",
    "start_time = time.time()\n",
    "results_cpp_8bit = subprocess.run(\n",
    "    [\"./anagrammer_03\", \"dictionary/wordlist95000_ITA_sign.json\", input_str, \"--allow_partial\"],\n",
    "    text=True, capture_output=True).stdout.splitlines()\n",
    "ex_time_cpp_8bit = time.time() - start_time\n",
    "\n",
    "print(f\"C++ O3 completed in {ex_time_cpp_8bit}s\")\n",
    "print(f\"{len(results_cpp_8bit)} anagrams found\")"
   ]
  },
  {
   "cell_type": "code",
   "execution_count": 6,
   "metadata": {},
   "outputs": [
    {
     "data": {
      "text/plain": [
       "(560, 10000)"
      ]
     },
     "execution_count": 6,
     "metadata": {},
     "output_type": "execute_result"
    }
   ],
   "source": [
    "len(results_py), len(results_cpp)"
   ]
  }
 ],
 "metadata": {
  "kernelspec": {
   "display_name": "base",
   "language": "python",
   "name": "python3"
  },
  "language_info": {
   "codemirror_mode": {
    "name": "ipython",
    "version": 3
   },
   "file_extension": ".py",
   "mimetype": "text/x-python",
   "name": "python",
   "nbconvert_exporter": "python",
   "pygments_lexer": "ipython3",
   "version": "3.12.4"
  }
 },
 "nbformat": 4,
 "nbformat_minor": 2
}
